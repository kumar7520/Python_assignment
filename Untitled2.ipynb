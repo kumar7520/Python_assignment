{
 "cells": [
  {
   "cell_type": "markdown",
   "id": "6be51a6d",
   "metadata": {},
   "source": [
    "1. Computes the EX ,EX**2 AND Variance for the Function f(x) = e−x, x ≥ 0"
   ]
  },
  {
   "cell_type": "code",
   "execution_count": 73,
   "id": "fb977c7c",
   "metadata": {},
   "outputs": [
    {
     "name": "stdout",
     "output_type": "stream",
     "text": [
      "THE EXPETATION OF X IS  1\n",
      "THE EXPECTATION OF X**2 IS 2\n",
      "Variance = EX**2-(EX)**2\n",
      "THE Variance is:  1\n"
     ]
    }
   ],
   "source": [
    "from sympy import*\n",
    "x=symbols(\"x\")\n",
    "\n",
    "EX = integrate((x)*exp(-x), (x, 0, oo)) #computes the expectation of X\n",
    "EX2 = integrate((x**2)*exp(-x), (x, 0, oo)) #computes the Expectation of x**2\n",
    "Var = (EX2-((EX)**2))\n",
    "print(\"THE EXPETATION OF X IS \" , EX)\n",
    "print (\"THE EXPECTATION OF X**2 IS\", EX2)\n",
    "print(\"Variance = EX**2-(EX)**2\")\n",
    "print(\"THE Variance is: \",Var)"
   ]
  },
  {
   "cell_type": "markdown",
   "id": "970e28ed",
   "metadata": {},
   "source": [
    "2.b)Computes the EX ,EX**2 And Variance for the function f(x)=1/[π(1 + x2)], −∞ < x < ∞."
   ]
  },
  {
   "cell_type": "code",
   "execution_count": 76,
   "id": "7978ae94",
   "metadata": {},
   "outputs": [
    {
     "name": "stdout",
     "output_type": "stream",
     "text": [
      "THE EXPETATION OF X IS  nan\n",
      "THE EXPECTATION OF X**2 IS nan\n",
      "Variance = EX**2-(EX)**2\n",
      "THE Variance is:  nan\n"
     ]
    }
   ],
   "source": [
    "from sympy import*\n",
    "x=symbols(\"x\")\n",
    "\n",
    "EX = integrate((1/pi*(1+x**2))*x, (x, -oo, oo)) #computes the expectation of X\n",
    "EX2 = integrate((1/pi*(1+x**2))*x, (x, -oo, oo)) #computes the Expectation of x**2\n",
    "Var = (EX2-((EX)**2))\n",
    "print(\"THE EXPETATION OF X IS \" , EX)\n",
    "print (\"THE EXPECTATION OF X**2 IS\", EX2)\n",
    "print(\"Variance = EX**2-(EX)**2\")\n",
    "print(\"THE Variance is: \",Var)"
   ]
  },
  {
   "cell_type": "markdown",
   "id": "ecec0e3a",
   "metadata": {},
   "source": [
    "2.c  Computes the EX ,EX**2 And Variance for the function f(x)= f(x) = xe−x, x ≥ 0."
   ]
  },
  {
   "cell_type": "code",
   "execution_count": 82,
   "id": "f36845bf",
   "metadata": {},
   "outputs": [
    {
     "name": "stdout",
     "output_type": "stream",
     "text": [
      "THE EXPETATION OF X IS  2\n",
      "THE EXPECTATION OF X**2 IS 6\n",
      "Variance = EX**2-(EX)**2\n",
      "THE Variance is:  2\n"
     ]
    }
   ],
   "source": [
    "from sympy import*\n",
    "x=symbols(\"x\")\n",
    "\n",
    "EX = integrate((x)*(x)*exp(-x), (x, 0, oo)) #computes the expectation of X\n",
    "EX2 = integrate((x**2)*exp(-x)*(x), (x, 0, oo)) #computes the Expectation of x**2\n",
    "Var = (EX2-((EX)**2))\n",
    "print(\"THE EXPETATION OF X IS \" , EX)\n",
    "print (\"THE EXPECTATION OF X**2 IS\", EX2)\n",
    "print(\"Variance = EX**2-(EX)**2\")\n",
    "print(\"THE Variance is: \",Var)"
   ]
  },
  {
   "cell_type": "code",
   "execution_count": null,
   "id": "0e2a87c4",
   "metadata": {},
   "outputs": [],
   "source": []
  }
 ],
 "metadata": {
  "kernelspec": {
   "display_name": "Python 3 (ipykernel)",
   "language": "python",
   "name": "python3"
  },
  "language_info": {
   "codemirror_mode": {
    "name": "ipython",
    "version": 3
   },
   "file_extension": ".py",
   "mimetype": "text/x-python",
   "name": "python",
   "nbconvert_exporter": "python",
   "pygments_lexer": "ipython3",
   "version": "3.9.13"
  }
 },
 "nbformat": 4,
 "nbformat_minor": 5
}
