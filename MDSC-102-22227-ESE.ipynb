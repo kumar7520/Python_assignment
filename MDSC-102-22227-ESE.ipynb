{
 "cells": [
  {
   "cell_type": "markdown",
   "id": "869696a4",
   "metadata": {},
   "source": [
    "## 1."
   ]
  },
  {
   "cell_type": "code",
   "execution_count": null,
   "id": "78ea6460",
   "metadata": {},
   "outputs": [],
   "source": [
    "import numpy as np"
   ]
  },
  {
   "cell_type": "code",
   "execution_count": 5,
   "id": "317d1829",
   "metadata": {},
   "outputs": [
    {
     "name": "stdout",
     "output_type": "stream",
     "text": [
      "[ 10  20  30  40  50  60  70  80  90 100]\n"
     ]
    }
   ],
   "source": [
    "a = np.arange(10,110,10)\n",
    "print(a)"
   ]
  },
  {
   "cell_type": "markdown",
   "id": "cbe37ac5",
   "metadata": {},
   "source": [
    "## 2.What is the data type for 4?"
   ]
  },
  {
   "cell_type": "markdown",
   "id": "215f3eb3",
   "metadata": {},
   "source": [
    "INTEGER"
   ]
  },
  {
   "cell_type": "markdown",
   "id": "80863d9d",
   "metadata": {},
   "source": [
    "## 3."
   ]
  },
  {
   "cell_type": "code",
   "execution_count": 10,
   "id": "748077ee",
   "metadata": {},
   "outputs": [
    {
     "name": "stdout",
     "output_type": "stream",
     "text": [
      "(3, 4, 5)\n",
      "3\n"
     ]
    }
   ],
   "source": [
    "Z_list = [z for z in range(0,5)]\n",
    "y_list = [Z_list for y in range(0,4)]\n",
    "x_list = [y_list for x in range(0,3)]\n",
    "\n",
    "x_array = np.array(x_list)\n",
    "print(x_array.shape)\n",
    "print(x_array.ndim)"
   ]
  },
  {
   "cell_type": "markdown",
   "id": "9e9a2ec9",
   "metadata": {},
   "source": [
    "## 4."
   ]
  },
  {
   "cell_type": "code",
   "execution_count": 29,
   "id": "51c6379c",
   "metadata": {},
   "outputs": [
    {
     "name": "stdout",
     "output_type": "stream",
     "text": [
      "    name  height\n",
      "0  alice     165\n",
      "1   john     180\n",
      "2   eric     175\n",
      "3  julie     171\n"
     ]
    }
   ],
   "source": [
    "import pandas as pd\n",
    "columns = ['name', 'age', 'gender', 'job']\n",
    "A = pd.DataFrame([['alice', 19, \"F\", \"student\"],\n",
    "['john', 26, \"M\", \"student\"]],\n",
    "columns=columns)\n",
    "\n",
    "B  = pd.DataFrame([['eric', 22, \"M\", \"student\"],\n",
    "['paul', 58, \"F\", \"manager\"]],\n",
    "columns=columns)\n",
    "\n",
    "C = pd.DataFrame(dict(name=['peter', 'julie'],\n",
    "age=[33, 44], gender=['M', 'F'],\n",
    "job=['engineer', 'scientist']))\n",
    "\n",
    "D = pd.DataFrame(dict(name=['alice', 'john', 'eric', 'julie'],\n",
    "height=[165, 180, 175, 171]))\n",
    "print(D)\n",
    "\n",
    "\n",
    "\n",
    "\n",
    "\n"
   ]
  },
  {
   "cell_type": "code",
   "execution_count": 48,
   "id": "d9fd3b3e",
   "metadata": {},
   "outputs": [
    {
     "name": "stdout",
     "output_type": "stream",
     "text": [
      "    name  age gender        job\n",
      "0  alice   19      F    student\n",
      "1   john   26      M    student\n",
      "0   eric   22      M    student\n",
      "1   paul   58      F    manager\n",
      "0  peter   33      M   engineer\n",
      "1  julie   44      F  scientist\n"
     ]
    },
    {
     "name": "stderr",
     "output_type": "stream",
     "text": [
      "C:\\Users\\Msc 1\\AppData\\Local\\Temp\\ipykernel_2360\\162495486.py:1: FutureWarning: The frame.append method is deprecated and will be removed from pandas in a future version. Use pandas.concat instead.\n",
      "  A.append(B)\n"
     ]
    }
   ],
   "source": [
    "A.append(B)\n",
    "X = pd.concat([A, B, C ])\n",
    "print(X)\n"
   ]
  },
  {
   "cell_type": "code",
   "execution_count": 49,
   "id": "696d3541",
   "metadata": {},
   "outputs": [
    {
     "name": "stdout",
     "output_type": "stream",
     "text": [
      "    name  age gender        job  height\n",
      "0  alice   19      F    student     165\n",
      "1   john   26      M    student     180\n",
      "2   eric   22      M    student     175\n",
      "3  julie   44      F  scientist     171\n"
     ]
    }
   ],
   "source": [
    "merge_inter = pd.merge(X, D, on=\"name\")\n",
    "print(merge_inter)\n",
    "\n"
   ]
  },
  {
   "cell_type": "markdown",
   "id": "ffc5901a",
   "metadata": {},
   "source": [
    "## 5."
   ]
  },
  {
   "cell_type": "markdown",
   "id": "9f4ccfd6",
   "metadata": {},
   "source": [
    "## From This we can say that for bachelors management Y has paid salary in the range -15000-17000, management N has paid in the range 16250-12500\n",
    "## ->Salary for Phd Edu is in the range 23000-21000 for management y and 12000-13000 for managemnt N\n",
    "## ->salary for Mater  by Management Y is 22500 -26000 and By management N is 17500-12500\n",
    "## Bachelors are paid least and Masters are paid highest"
   ]
  },
  {
   "cell_type": "markdown",
   "id": "40ebbf81",
   "metadata": {},
   "source": [
    "## 6. For this question we do t-test"
   ]
  },
  {
   "cell_type": "code",
   "execution_count": 38,
   "id": "5525a3fa",
   "metadata": {},
   "outputs": [
    {
     "name": "stdout",
     "output_type": "stream",
     "text": [
      "2.3968766311585883\n"
     ]
    }
   ],
   "source": [
    "import numpy as np\n",
    "data= [ 1.83, 1.83, 1.73, 1.82, 1.83, 1.73, 1.99, 1.85, 1.68, 1.87]\n",
    "xbar = np.mean(data) # Mean of the data \n",
    "mu0 = 1.75  # Given mu value\n",
    "s = np.std(data, ddof=1) #  standard deviation\n",
    "n = len(data) # sample size\n",
    "a = (xbar - mu0) / (s / np.sqrt(n))\n",
    "print(a)"
   ]
  },
  {
   "cell_type": "markdown",
   "id": "fb1bfa8e",
   "metadata": {},
   "source": [
    "## 9. "
   ]
  },
  {
   "cell_type": "code",
   "execution_count": 54,
   "id": "f478f3c8",
   "metadata": {},
   "outputs": [
    {
     "name": "stdout",
     "output_type": "stream",
     "text": [
      "0           adi\n",
      "1         kumar\n",
      "2        sathya\n",
      "3         pavan\n",
      "4       srihari\n",
      "5     saideava,\n",
      "6        vamsee\n",
      "7       swaroop\n",
      "8        lalith\n",
      "9           ani\n",
      "10    aharneish\n",
      "dtype: object\n"
     ]
    }
   ],
   "source": [
    "series = pd.Series(['adi','kumar','sathya','pavan','srihari','saideava,','vamsee','swaroop','lalith','ani','aharneish'])\n",
    "vowel = (['a','e','i','o','u'])\n",
    "\n",
    "print(series)\n",
    "     "
   ]
  }
 ],
 "metadata": {
  "kernelspec": {
   "display_name": "Python 3 (ipykernel)",
   "language": "python",
   "name": "python3"
  },
  "language_info": {
   "codemirror_mode": {
    "name": "ipython",
    "version": 3
   },
   "file_extension": ".py",
   "mimetype": "text/x-python",
   "name": "python",
   "nbconvert_exporter": "python",
   "pygments_lexer": "ipython3",
   "version": "3.9.13"
  }
 },
 "nbformat": 4,
 "nbformat_minor": 5
}
