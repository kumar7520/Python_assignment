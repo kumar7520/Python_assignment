{
 "cells": [
  {
   "cell_type": "markdown",
   "id": "77639adc",
   "metadata": {},
   "source": [
    "Write A Program To find The local Extrema using Newton Raphson Method for $$ f(X) = (X1)^3 +(X_2)^3-3(X1)(X_2) $$\n"
   ]
  },
  {
   "cell_type": "code",
   "execution_count": 4,
   "id": "5963697c",
   "metadata": {},
   "outputs": [
    {
     "name": "stdout",
     "output_type": "stream",
     "text": [
      "for critical points x1 =1.000000000001982 x2 = 1.0000000000022335  \n",
      " the function value of g(1.000000000001982,1.0000000000022335) is = \n",
      " [[5.19140286e-12]\n",
      " [7.45536965e-12]],\n",
      " f = f(1.000000000001982,1.0000000000022335) = -1.0 ,(<0)therefore MAXIMA\n"
     ]
    }
   ],
   "source": [
    "import numpy as np\n",
    "from scipy import linalg, sparse\n",
    "def f(x1,x2):\n",
    "    return (x1**3+x2**3-3*x1*x2)\n",
    "def g(x1,x2):\n",
    "    return np.array([[3*x1**2-3*x2],[3*x2**2-3*x1]])\n",
    "def gj(x1,x2):\n",
    "    return np.array([[6*x1,-3],[-3,6*x2]])\n",
    "def newton_raphson(xk,e,n):\n",
    "    xk1 = np.array([[0],[0]])\n",
    "    x1 = xk.item(0)\n",
    "    x2 = xk.item(1)\n",
    "    flag = 0\n",
    "    for i in range(n):\n",
    "        a = gj(x1,x2)\n",
    "        xk1 = np.subtract(xk,(np.dot(linalg.inv(a),g(x1,x2))))\n",
    "        x1 = xk1.item(0)\n",
    "        x2 = xk1.item(1)\n",
    "        m = np.linalg.norm(xk)\n",
    "        n = np.linalg.norm(xk1)\n",
    "        #print(m,n,abs(m-n))\n",
    "        if abs(m-n) < e:\n",
    "            flag = 1\n",
    "            break\n",
    "        xk = xk1\n",
    "        #print(i,xk)\n",
    "\n",
    "\n",
    "    if(flag == 0):\n",
    "        print(\"not convergible!!!\")\n",
    "        return\n",
    "    return xk1\n",
    "a = np.array([[1],[2]])\n",
    "b = newton_raphson(a,0.001,500)\n",
    "c = b.item(0)\n",
    "d = b.item(1)\n",
    "\n",
    "e = f(c,d)\n",
    "h = g(c,d)\n",
    "if e < 0:\n",
    "    print(f\"for critical points x1 ={c} x2 = {d}  \\n the function value of g({c},{d}) is = \\n {h},\")\n",
    "    print(f\" f = f({c},{d}) = {e} ,(<0)therefore MAXIMA\" )\n",
    "if e > 0:\n",
    "    print(f\"for critical points x1 ={c} x2 = {d} the function value of g({c},{d}) is = \\n {h},\")\n",
    "    print(f\" f =f({c},{d}) = {e} ,(>0)therefore MINIMA\" )\n",
    "if e == 0:\n",
    "    print(f\"not determinable\" )\n",
    "\n",
    "\n",
    "\n",
    "\n"
   ]
  },
  {
   "cell_type": "markdown",
   "id": "ca893cdb",
   "metadata": {},
   "source": [
    "  Write a function to find the local max/min using golden search method \n",
    "                                  $$ f(x) = 3x        0<=x<=2 $$\n",
    "                                   $$   1/3(20-x)     2<=x<=3 $$\n",
    "                   "
   ]
  },
  {
   "cell_type": "code",
   "execution_count": 5,
   "id": "3e46b257",
   "metadata": {},
   "outputs": [
    {
     "data": {
      "text/plain": [
       "2.291912904"
      ]
     },
     "execution_count": 5,
     "metadata": {},
     "output_type": "execute_result"
    }
   ],
   "source": [
    "def f(x):\n",
    "    if 0<=x<=2:\n",
    "        return 3*x\n",
    "    elif 2<=x<=3:\n",
    "          return (1/3)*(20-x)\n",
    "\n",
    "def gold(a,b,n,err):\n",
    "    \n",
    "    i =[a,b]\n",
    "    xl = a\n",
    "    xr = b\n",
    "    g = 0.618\n",
    "    x1 = 0\n",
    "    x2 = 0\n",
    "    for j in range(n):\n",
    "      \n",
    "        if  f(xl)<f(xr):\n",
    "            x1 = xr -g*(xr-xl)\n",
    "            xl = x1\n",
    "            xr = xr\n",
    "            \n",
    "        elif f(x1)>f(x2):\n",
    "            x2 = xl +g*(xr-xl)\n",
    "            xl = xl\n",
    "            xr = x2                  \n",
    "        else:\n",
    "            x1 = xr - g*(xr-xl)\n",
    "            x2 = xl + g*(xr-xl)\n",
    "            xl = x1\n",
    "            xr = x2\n",
    "        if abs(x1-x2)<err:\n",
    "            break\n",
    "    return x1\n",
    "gold(0,3,10,0.0001)\n",
    "    "
   ]
  },
  {
   "cell_type": "markdown",
   "id": "75202fc4",
   "metadata": {},
   "source": [
    "## *Gradient Descent*"
   ]
  },
  {
   "cell_type": "code",
   "execution_count": 7,
   "id": "06feca63",
   "metadata": {},
   "outputs": [
    {
     "name": "stdout",
     "output_type": "stream",
     "text": [
      "minima of the function is  =  -0.3000000000000038\n"
     ]
    }
   ],
   "source": [
    "def f(x):\n",
    "    return x**2\n",
    "def g(x):\n",
    "    return 2*x\n",
    "def grad_desc(lr,x0,e,niter):\n",
    "    x=x0\n",
    "    temp=0\n",
    "    cond=True\n",
    "    for i in range(niter):\n",
    "        x1=x-lr*g(x0)\n",
    "        temp=x\n",
    "        x=x1\n",
    "        cond=(temp - x1) <= e or x1 < lr\n",
    "        if cond==False:\n",
    "            continue\n",
    "        else:\n",
    "            break\n",
    "        \n",
    "    return x\n",
    "\n",
    "m = (grad_desc(0.03,15,0.002,100))\n",
    "z = f(m)\n",
    "print('minima of the function is  = ',m)"
   ]
  },
  {
   "cell_type": "code",
   "execution_count": null,
   "id": "33e092e3",
   "metadata": {},
   "outputs": [],
   "source": []
  }
 ],
 "metadata": {
  "kernelspec": {
   "display_name": "Python 3 (ipykernel)",
   "language": "python",
   "name": "python3"
  },
  "language_info": {
   "codemirror_mode": {
    "name": "ipython",
    "version": 3
   },
   "file_extension": ".py",
   "mimetype": "text/x-python",
   "name": "python",
   "nbconvert_exporter": "python",
   "pygments_lexer": "ipython3",
   "version": "3.9.13"
  }
 },
 "nbformat": 4,
 "nbformat_minor": 5
}
