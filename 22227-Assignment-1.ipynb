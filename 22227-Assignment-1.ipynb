{
 "cells": [
  {
   "cell_type": "markdown",
   "id": "427f9af5",
   "metadata": {},
   "source": [
    "1. Write a program to compute the real roots of the equation  𝑎𝑥2+𝑏𝑥+𝑐."
   ]
  },
  {
   "cell_type": "code",
   "execution_count": 48,
   "id": "1082a732",
   "metadata": {},
   "outputs": [
    {
     "name": "stdout",
     "output_type": "stream",
     "text": [
      "Enter the coefficients of a: 2\n",
      "Enter the coefficients of b: 3\n",
      "Enter the coefficients of c: 1\n",
      "This equation has two solutions:  -0.5  or -1.0\n"
     ]
    }
   ],
   "source": [
    "\"\"\"\"Program to compute the real roots for the equation given by the user\n",
    "    Author : A Sai kumar reddy\n",
    "    Date : 5/08/2022  \n",
    "    \"\"\"\n",
    "\n",
    "import math\n",
    "a = int(input(\"Enter the coefficients of a: \"))\n",
    "b = int(input(\"Enter the coefficients of b: \"))\n",
    "c = int(input(\"Enter the coefficients of c: \"))\n",
    "\n",
    "d = b**2-4*a*c #it will find the discriminant of the equation\n",
    "\n",
    "if d < 0:\n",
    "    print (\"This equation has no real solution\")  #checks if d is less than 0\n",
    "elif d == 0:\n",
    "    x = (-b+math.sqrt(b**2-4*a*c))/2*a\n",
    "    print (\"This equation has one solutions: \"), x\n",
    "else:\n",
    "    x1 = (-b+math.sqrt((b**2)-(4*(a*c))))/(2*a)\n",
    "    x2 = (-b-math.sqrt((b**2)-(4*(a*c))))/(2*a)\n",
    "    print (\"This equation has two solutions: \", x1, \" or\", x2)"
   ]
  },
  {
   "cell_type": "markdown",
   "id": "84158e7c",
   "metadata": {},
   "source": [
    "2. Write a program to compute the probability  𝑃(𝑋=𝑥),  where  𝑋∼𝐵𝑖𝑛(𝑛=10,𝑝=0.2)"
   ]
  },
  {
   "cell_type": "code",
   "execution_count": 38,
   "id": "2671cf3e",
   "metadata": {},
   "outputs": [],
   "source": [
    "\"\"\"\"Program to find the probabilty for bernoulli distribution\n",
    "    Author: A Sai Kumar Reddy\n",
    "    Date:06/08/2022\"\"\"\n",
    "\n",
    "\n",
    "\n",
    "import math as m\n",
    "\n",
    "def bin(x,n,p):\n",
    "    if p>0 and p<=1:          #checks if the probabilty lies between 0 and 1\n",
    "        if x<n:\n",
    "            if n>0:\n",
    "                ans = ((m.factorial(n)/m.factorial(n-x)*m.factorial(x))*(p**x)*(1-p)**(n-x)) #bernoulli distribution\n",
    "                return ans\n",
    "            else:\n",
    "                print(\"enter correct number of trails\")\n",
    "        else:\n",
    "            return 0\n",
    "    else:\n",
    "        print(\"probality should be between 0 and 1\")\n",
    "    \n",
    "        \n",
    "    "
   ]
  },
  {
   "cell_type": "code",
   "execution_count": null,
   "id": "1515650d",
   "metadata": {},
   "outputs": [],
   "source": [
    "bin(11,10,5)"
   ]
  },
  {
   "cell_type": "code",
   "execution_count": null,
   "id": "6e99d46d",
   "metadata": {},
   "outputs": [],
   "source": []
  },
  {
   "cell_type": "markdown",
   "id": "8ca804a9",
   "metadata": {},
   "source": [
    "3. Lets say you are running a 5 km race. Write a program that,\n",
    "\n",
    "Upon completing each 1 km asks you \"are you tired?\"\n",
    "\n",
    "If you reply \"yes\" then it should break and print \"you didn't finish the race\"\n",
    "\n",
    "If you reply \"no\" then it should continue and ask \"are you tired\" on every km\n",
    "\n",
    "If you finish all 5 km then it should print congratulations message"
   ]
  },
  {
   "cell_type": "code",
   "execution_count": 43,
   "id": "6e783700",
   "metadata": {},
   "outputs": [
    {
     "name": "stdout",
     "output_type": "stream",
     "text": [
      "Are you tired: yes\n",
      "you didnt finish the race\n"
     ]
    }
   ],
   "source": [
    "\"\"\"\"program to check the completion of the race \n",
    "    Author :A Sai kumar reddy\n",
    "    Date:5/08/2022\n",
    "   \"\"\"\n",
    "    \n",
    "distance = 5\n",
    "for i in range(1,distance+1):  #checks the distance ran by the person\n",
    "    if(i<5):\n",
    "        \n",
    "        n = input(\"Are you tired: \")\n",
    "        if n == \"yes\":\n",
    "            print(\"you didnt finish the race\")  #if the user gives yes it prints that he didnt finish the race\n",
    "            break\n",
    "        elif n ==\"no\":\n",
    "            continue\n",
    "            \n",
    "    else:\n",
    "        print(\"Congrats you completed\")\n",
    "        \n",
    "            \n",
    "    "
   ]
  },
  {
   "cell_type": "markdown",
   "id": "c3165cf5",
   "metadata": {},
   "source": [
    "4. Write a function tip_calc(bill, party), where bill is the total cost of a meal and party is the number of people in the group. The tip should be calculated as 15% for a party strictly less than six people, 18% for a party strictly less than eight, 20% for a party less than 11, and 25% for a party 11 or more. A couple of test cases are given below."
   ]
  },
  {
   "cell_type": "code",
   "execution_count": null,
   "id": "d9dffdf8",
   "metadata": {},
   "outputs": [],
   "source": [
    "\"\"\"\"\n",
    "Program to caluculate the tip amount based on the conditions\n",
    "Author:A Sai kumar Reddy\n",
    "Date:05/08/2022\"\"\"\n",
    "\n",
    "def my_tip_calc(bill,party):  \n",
    "    if (bill <0 or party <0):\n",
    "        print(\"wrong input\")\n",
    "        end\n",
    "    elif(party<6):\n",
    "        tip = bill*0.15 + bill\n",
    "    elif(party>=6 or party<8):\n",
    "        tip = bill*0.18 + bill\n",
    "    elif(party>=8 or party<11):        #caluculates the tip based on the conditions\n",
    "        tip = bill*0.20 +bill\n",
    "    elif(party>=11):\n",
    "        tip = bill*0.25 +bill\n",
    "        end\n",
    "    return tip\n",
    "ans = my_tip_calc(100,10)\n",
    "print(ans)\n",
    "               "
   ]
  },
  {
   "cell_type": "markdown",
   "id": "a3349fec",
   "metadata": {},
   "source": [
    "5. Write a function mult_operation(a,b,operation). The input argument, operation, is a string that is either 'plus', 'minus', 'mult', 'div', or 'pow', and the function should compute: a+b, a−b, a∗b, a/b, and ab for the respective values for operation. A couple of test cases are given below."
   ]
  },
  {
   "cell_type": "code",
   "execution_count": null,
   "id": "91f76f28",
   "metadata": {},
   "outputs": [],
   "source": [
    "\"\"\"\"Program to caluculate arthimetic operations \n",
    "    Author:A Sai Kumar Reddy\n",
    "    Date:06/08/2022\"\"\"\n",
    "\n",
    "\n",
    "def mult_operation(a,b,operation):\n",
    "    if operation == 'plus':\n",
    "        return a+b\n",
    "    if operation == 'minus':\n",
    "        return a-b\n",
    "    if operation == 'mul':\n",
    "        return a*b\n",
    "    if operation == 'div':\n",
    "        return a/b\n",
    "mult_operation(5,6,'plus')\n",
    "\n",
    "    "
   ]
  },
  {
   "cell_type": "markdown",
   "id": "4090d2d8",
   "metadata": {},
   "source": [
    "6. Consider a triangle with vertices at (0,0), (1,0), and (0,1). Write a function inside_triangle(x,y) where the output is the string ‘outside’ if the point (x,y) is outside of the triangle, ‘border’ if the point is exactly on the border of the triangle, and ‘inside’ if the point is on the inside of the triangle."
   ]
  },
  {
   "cell_type": "code",
   "execution_count": null,
   "id": "69884497",
   "metadata": {},
   "outputs": [],
   "source": [
    "\"\"\"\"Program to identify if the point lies inside or on the triangle or outside of it\n",
    "    Author: A Sai Kumar Reddy\n",
    "    Date:06/08/2022\"\"\"\n",
    "\n",
    "\n",
    "\n",
    "def triangle(x,y):\n",
    "  \n",
    "    if(x+y == 1):\n",
    "        print(\"it is on the border \")\n",
    "    elif((x>0 and x<1) and (y>0 and y<1)):\n",
    "        print(\"Inside the Triangle \")\n",
    "    elif((x == 0 and (y>0 and y<1)) or (y == 0 and (x>0 and x<1))):\n",
    "        print(\"On the border \")\n",
    "    else:\n",
    "        print(\"Outside The triangle...\")\n",
    "\n",
    "print(\"Enter your co-ordinates:\")\n",
    "x=float(input(\"Enter The X cordinate:\"))\n",
    "y=float(input(\"Enter The Y cordinate:\"))\n",
    "print(f\"The point give(X,Y)({x},{y}) lies:\")\n",
    "triangle(x,y)"
   ]
  },
  {
   "cell_type": "markdown",
   "id": "19c3ac34",
   "metadata": {},
   "source": [
    "7. Write a function letter_grader(percent), where grade is the string ‘O’ if percent is greater than 80, ‘A’ if percent is greater than 70, ‘B‘ if percent is greater than 60, ‘C’ if percent is greater than 40, and ‘F’ if percent is less than 40. Grades exactly on the division should be included in the higher grade category."
   ]
  },
  {
   "cell_type": "code",
   "execution_count": null,
   "id": "ad2518b4",
   "metadata": {},
   "outputs": [],
   "source": [
    "\"\"\"\"Program to check the grades based on given input\n",
    "    Author: A Sai Kumar Reddy\n",
    "    Date:05/08/2022\"\"\"\n",
    "\n",
    "def letter_grader(percent):\n",
    "    if(percent>80):\n",
    "        print(\"O\")\n",
    "    if(percent>=70 and percent<80):    #based on the user input checks the conditions and gives output of the grade\n",
    "        print(\"Grade: A\")\n",
    "    elif(percent>=60 and percent<70):\n",
    "        print(\"Grade: B\")\n",
    "    elif(percent>=40 and percent<60):\n",
    "        print(\"Grade: C\")\n",
    "    elif(percent<40):\n",
    "        print(\"Grade: f\")\n",
    "letter_grader(60)"
   ]
  },
  {
   "cell_type": "markdown",
   "id": "24388af5",
   "metadata": {},
   "source": [
    "8. Consider a nuclear reactor whose temperature is monitored by three sensors. An alarm should go off if any two of the sensor readings disagree. Write a function nuke_alarm(s1,s2,s3) where s1, s2, and s3 are the temperature readings for sensor 1, sensor 2, and sensor 3, respectively. The output should be the string ‘alarm!’ if any two of the temperature readings disagree by strictly more than 10 degrees and ‘normal’ otherwise."
   ]
  },
  {
   "cell_type": "code",
   "execution_count": null,
   "id": "cd634a3d",
   "metadata": {},
   "outputs": [],
   "source": [
    "\"\"\"\"Program to give a message by the sensors based on temparature readings\n",
    "    Author: A Sai Kumar Reddy\n",
    "    Date:06/08/2022\"\"\"\n",
    "\n",
    "def nuke_alaram(s1,s2,s3):\n",
    "    if s1-s2 >= 10 or s2-s3 >= 10 or s1-s3 >= 10:  #checks if the difference between sensors is greater than 10 and gives the output\n",
    "        print(\"alarm!!\")\n",
    "    else:\n",
    "        print(\"normal\")\n",
    "nuke_alaram(100,80,60)\n",
    "      \n",
    "    "
   ]
  },
  {
   "cell_type": "markdown",
   "id": "e09e3756",
   "metadata": {},
   "source": [
    "9. Write a function n_odds(x), where  𝑥  is a one-dimensional array of floats and the output is the number of odd numbers in  𝑥."
   ]
  },
  {
   "cell_type": "code",
   "execution_count": 1,
   "id": "6c6ee02d",
   "metadata": {},
   "outputs": [
    {
     "name": "stdout",
     "output_type": "stream",
     "text": [
      "result: 2\n"
     ]
    }
   ],
   "source": [
    "\"\"\"\"Program to find number of odds in x\n",
    "    Author: A Sai Kumar Reddy\n",
    "    Date:06/08/2022\"\"\"\n",
    "\n",
    "\n",
    "def n_odds(x):\n",
    "    count=0\n",
    "    for q in range(len(x)):\n",
    "        if(x[q] == round(x[q])):\n",
    "            if(x[q]%2 != 0):\n",
    "                count+=1\n",
    "        \n",
    "    return count\n",
    "\n",
    "a = [1.2,3,5,6.4]\n",
    "print(\"result:\",n_odds(a))\n"
   ]
  },
  {
   "cell_type": "markdown",
   "id": "de78c165",
   "metadata": {},
   "source": [
    "10. Write a function vol_cylinder(r,h), where  𝑟  and  ℎ  are the radius and height of a cylinder, respectively, and the output is a list  [𝑠,𝑣]  where  𝑠  and  𝑣  are the surface area and volume of the same cylinder, respectively. Recall that the surface area of a cylinder is  2π𝑟2+2π𝑟ℎ,  and the volume is  π𝑟2ℎ.  Assume that  𝑟  and  ℎ  are 1 by 1 float."
   ]
  },
  {
   "cell_type": "code",
   "execution_count": null,
   "id": "a175e90b",
   "metadata": {},
   "outputs": [],
   "source": [
    "\"\"\"\"Program to caluculate the volume and surface area of a cylinder\n",
    "    Author:A Sai kumar Reddy\n",
    "    Date : 05/08/2022\"\"\"\n",
    "    \n",
    "    \n",
    "import math\n",
    "\n",
    "def Vol_Sa_Cylinder(radius, height):\n",
    "    sa = 2 * math.pi * radius * (radius + height)   #caluculates the sa and volume using the formulae\n",
    "    Volume = math.pi * radius * radius * height\n",
    "  \n",
    "    print(\" The Surface area of a Cylinder = %.2f\" %sa)\n",
    "    print(\" The Volume of a Cylinder = %.2f\" %Volume)\n",
    "    \n",
    "   \n",
    "\n",
    "Vol_Sa_Cylinder(6, 4)"
   ]
  }
 ],
 "metadata": {
  "kernelspec": {
   "display_name": "Python 3 (ipykernel)",
   "language": "python",
   "name": "python3"
  },
  "language_info": {
   "codemirror_mode": {
    "name": "ipython",
    "version": 3
   },
   "file_extension": ".py",
   "mimetype": "text/x-python",
   "name": "python",
   "nbconvert_exporter": "python",
   "pygments_lexer": "ipython3",
   "version": "3.9.13"
  }
 },
 "nbformat": 4,
 "nbformat_minor": 5
}
